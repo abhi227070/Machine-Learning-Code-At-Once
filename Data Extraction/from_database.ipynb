{
 "cells": [
  {
   "cell_type": "code",
   "execution_count": 9,
   "id": "24abc4d5",
   "metadata": {},
   "outputs": [
    {
     "name": "stdout",
     "output_type": "stream",
     "text": [
      "Connecting to the database...\n",
      "Connection successful\n"
     ]
    },
    {
     "data": {
      "text/html": [
       "<div>\n",
       "<style scoped>\n",
       "    .dataframe tbody tr th:only-of-type {\n",
       "        vertical-align: middle;\n",
       "    }\n",
       "\n",
       "    .dataframe tbody tr th {\n",
       "        vertical-align: top;\n",
       "    }\n",
       "\n",
       "    .dataframe thead th {\n",
       "        text-align: right;\n",
       "    }\n",
       "</style>\n",
       "<table border=\"1\" class=\"dataframe\">\n",
       "  <thead>\n",
       "    <tr style=\"text-align: right;\">\n",
       "      <th></th>\n",
       "      <th>id</th>\n",
       "      <th>name</th>\n",
       "      <th>subscribers</th>\n",
       "      <th>category</th>\n",
       "    </tr>\n",
       "  </thead>\n",
       "  <tbody>\n",
       "    <tr>\n",
       "      <th>0</th>\n",
       "      <td>1</td>\n",
       "      <td>MR Beast</td>\n",
       "      <td>3200000</td>\n",
       "      <td>Entertainment</td>\n",
       "    </tr>\n",
       "    <tr>\n",
       "      <th>1</th>\n",
       "      <td>2</td>\n",
       "      <td>Campus X</td>\n",
       "      <td>3200000</td>\n",
       "      <td>Education</td>\n",
       "    </tr>\n",
       "    <tr>\n",
       "      <th>2</th>\n",
       "      <td>3</td>\n",
       "      <td>Next Workout</td>\n",
       "      <td>3200000</td>\n",
       "      <td>Fitness</td>\n",
       "    </tr>\n",
       "    <tr>\n",
       "      <th>3</th>\n",
       "      <td>4</td>\n",
       "      <td>Ali Abdaal</td>\n",
       "      <td>3200000</td>\n",
       "      <td>Productivity</td>\n",
       "    </tr>\n",
       "    <tr>\n",
       "      <th>4</th>\n",
       "      <td>5</td>\n",
       "      <td>Veritasium</td>\n",
       "      <td>13000000</td>\n",
       "      <td>Science</td>\n",
       "    </tr>\n",
       "  </tbody>\n",
       "</table>\n",
       "</div>"
      ],
      "text/plain": [
       "   id          name subscribers       category\n",
       "0   1      MR Beast     3200000  Entertainment\n",
       "1   2      Campus X     3200000      Education\n",
       "2   3  Next Workout     3200000        Fitness\n",
       "3   4    Ali Abdaal     3200000   Productivity\n",
       "4   5    Veritasium    13000000        Science"
      ]
     },
     "execution_count": 9,
     "metadata": {},
     "output_type": "execute_result"
    }
   ],
   "source": [
    "import pandas as pd\n",
    "from sqlalchemy import create_engine\n",
    "from dotenv import load_dotenv\n",
    "import os\n",
    "\n",
    "load_dotenv()\n",
    "\n",
    "# Load environment variables\n",
    "DB_HOST = os.getenv('DB_HOST')\n",
    "DB_USER = os.getenv('DB_USER')\n",
    "DB_PASSWORD = os.getenv('DB_PASSWORD')\n",
    "DB_NAME = os.getenv('DB_NAME')\n",
    "\n",
    "# Connect to the MySQL database\n",
    "def connect_to_database(host, user, password, database):\n",
    "    try:\n",
    "        print(\"Connecting to the database...\")\n",
    "        engine = create_engine(f\"mysql+pymysql://{user}:{password}@{host}/{database}\")\n",
    "        print(\"Connection successful\")\n",
    "        \n",
    "        return engine\n",
    "    except Exception as err:\n",
    "        print(f\"Error: {err}\")\n",
    "        return None\n",
    "   \n",
    "# Create connection and SQL query \n",
    "engine = connect_to_database(DB_HOST, DB_USER, DB_PASSWORD, DB_NAME)\n",
    "query = \"SELECT * FROM youtuber\"\n",
    "\n",
    "# Fetch data and convert into pandas dataframe\n",
    "dataframe = pd.read_sql(sql= query, con= engine)\n",
    "\n",
    "# Show 5 rows of the dataframe\n",
    "dataframe.head()\n"
   ]
  },
  {
   "cell_type": "code",
   "execution_count": null,
   "id": "894dddc7",
   "metadata": {},
   "outputs": [],
   "source": []
  }
 ],
 "metadata": {
  "kernelspec": {
   "display_name": "MachineLearning",
   "language": "python",
   "name": "python3"
  },
  "language_info": {
   "codemirror_mode": {
    "name": "ipython",
    "version": 3
   },
   "file_extension": ".py",
   "mimetype": "text/x-python",
   "name": "python",
   "nbconvert_exporter": "python",
   "pygments_lexer": "ipython3",
   "version": "3.10.11"
  }
 },
 "nbformat": 4,
 "nbformat_minor": 5
}
